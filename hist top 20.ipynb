{
 "cells": [
  {
   "cell_type": "code",
   "execution_count": 1,
   "id": "edcbc552",
   "metadata": {},
   "outputs": [],
   "source": [
    "import pandas as pd\n",
    "import matplotlib.pyplot as plt\n",
    "import seaborn as sns"
   ]
  },
  {
   "cell_type": "code",
   "execution_count": 2,
   "id": "95ba2881",
   "metadata": {},
   "outputs": [],
   "source": [
    "with open('Уэллс_-_Война_миров.txt', 'r') as file:\n",
    "    text = file.readlines()"
   ]
  },
  {
   "cell_type": "code",
   "execution_count": 4,
   "id": "05b56b1c",
   "metadata": {},
   "outputs": [
    {
     "data": {
      "text/plain": [
       "2128"
      ]
     },
     "execution_count": 4,
     "metadata": {},
     "output_type": "execute_result"
    }
   ],
   "source": [
    "# колисчество строк (с пробелами)\n",
    "len(text)"
   ]
  },
  {
   "cell_type": "code",
   "execution_count": 6,
   "id": "ae7de42e",
   "metadata": {},
   "outputs": [
    {
     "data": {
      "text/plain": [
       "980"
      ]
     },
     "execution_count": 6,
     "metadata": {},
     "output_type": "execute_result"
    }
   ],
   "source": [
    "# колисчество строк (без пробелов)\n",
    "ptext = [row for row in text if row != '\\n']\n",
    "len(ptext)"
   ]
  },
  {
   "cell_type": "code",
   "execution_count": 8,
   "id": "f6e89a15",
   "metadata": {},
   "outputs": [],
   "source": [
    "from nltk.tokenize import RegexpTokenizer\n",
    "tokenizer = RegexpTokenizer(r'\\w+')"
   ]
  },
  {
   "cell_type": "code",
   "execution_count": 15,
   "id": "c7c40842",
   "metadata": {},
   "outputs": [
    {
     "data": {
      "text/plain": [
       "45078"
      ]
     },
     "execution_count": 15,
     "metadata": {},
     "output_type": "execute_result"
    }
   ],
   "source": [
    "# количество слов\n",
    "content = ''.join(ptext)\n",
    "words = tokenizer.tokenize(content.lower())\n",
    "len(words)"
   ]
  },
  {
   "cell_type": "code",
   "execution_count": 13,
   "id": "109f81db",
   "metadata": {},
   "outputs": [
    {
     "data": {
      "text/plain": [
       "298375"
      ]
     },
     "execution_count": 13,
     "metadata": {},
     "output_type": "execute_result"
    }
   ],
   "source": [
    "# количество символов (с пробелами)\n",
    "len(''.join(text))"
   ]
  },
  {
   "cell_type": "code",
   "execution_count": 18,
   "id": "be1c29c4",
   "metadata": {},
   "outputs": [],
   "source": [
    "from functools import reduce"
   ]
  },
  {
   "cell_type": "code",
   "execution_count": 19,
   "id": "b6716e5e",
   "metadata": {},
   "outputs": [
    {
     "data": {
      "text/plain": [
       "241149"
      ]
     },
     "execution_count": 19,
     "metadata": {},
     "output_type": "execute_result"
    }
   ],
   "source": [
    "# количество символов (без пробелов)\n",
    "reduce(lambda acc, val: acc + len(val), words, 0)"
   ]
  },
  {
   "cell_type": "markdown",
   "id": "85a086ba",
   "metadata": {},
   "source": [
    "Построим гистограмму распределения частоты слов"
   ]
  },
  {
   "cell_type": "code",
   "execution_count": 20,
   "id": "857cb203",
   "metadata": {},
   "outputs": [],
   "source": [
    "from collections import Counter"
   ]
  },
  {
   "cell_type": "code",
   "execution_count": 23,
   "id": "36cf2ec6",
   "metadata": {},
   "outputs": [],
   "source": [
    "st = set(words)"
   ]
  },
  {
   "cell_type": "code",
   "execution_count": 24,
   "id": "f63fc2b7",
   "metadata": {},
   "outputs": [
    {
     "data": {
      "text/plain": [
       "12679"
      ]
     },
     "execution_count": 24,
     "metadata": {},
     "output_type": "execute_result"
    }
   ],
   "source": [
    "len(st)"
   ]
  },
  {
   "cell_type": "code",
   "execution_count": 25,
   "id": "058c4c6c",
   "metadata": {},
   "outputs": [],
   "source": [
    "dct = Counter({})\n",
    "for word in st:\n",
    "    dct[word] = words.count(word)"
   ]
  },
  {
   "cell_type": "code",
   "execution_count": 36,
   "id": "da3ac086",
   "metadata": {},
   "outputs": [
    {
     "data": {
      "text/plain": [
       "{'и': 1744,\n",
       " 'в': 1200,\n",
       " 'я': 1010,\n",
       " 'на': 893,\n",
       " 'не': 628,\n",
       " 'что': 606,\n",
       " 'с': 418,\n",
       " 'к': 363,\n",
       " 'он': 362,\n",
       " 'по': 324,\n",
       " 'то': 303,\n",
       " 'из': 294,\n",
       " 'как': 285,\n",
       " 'они': 252,\n",
       " 'все': 245,\n",
       " 'за': 239,\n",
       " 'мы': 219,\n",
       " 'от': 216,\n",
       " 'но': 213,\n",
       " 'это': 208}"
      ]
     },
     "execution_count": 36,
     "metadata": {},
     "output_type": "execute_result"
    }
   ],
   "source": [
    "top20 = dict(sorted(dct.items(), key=lambda x: x[1], reverse=True)[:20])\n",
    "top20"
   ]
  },
  {
   "cell_type": "code",
   "execution_count": 39,
   "id": "23c6e91e",
   "metadata": {},
   "outputs": [
    {
     "data": {
      "image/png": "[encoded data removed]",
      "text/plain": [
       "<Figure size 1008x432 with 1 Axes>"
      ]
     },
     "metadata": {
      "needs_background": "light"
     },
     "output_type": "display_data"
    }
   ],
   "source": [
    "plt.figure(figsize=(14, 6))\n",
    "plt.bar(top20.keys(), top20.values(), color='g');"
   ]
  }
 ],
 "metadata": {
  "kernelspec": {
   "display_name": "Python 3",
   "language": "python",
   "name": "python3"
  },
  "language_info": {
   "codemirror_mode": {
    "name": "ipython",
    "version": 3
   },
   "file_extension": ".py",
   "mimetype": "text/x-python",
   "name": "python",
   "nbconvert_exporter": "python",
   "pygments_lexer": "ipython3",
   "version": "3.8.8"
  }
 },
 "nbformat": 4,
 "nbformat_minor": 5
}
